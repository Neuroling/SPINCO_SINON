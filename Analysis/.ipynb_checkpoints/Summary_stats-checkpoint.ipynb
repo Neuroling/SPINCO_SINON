{
 "cells": [
  {
   "cell_type": "markdown",
   "id": "33fb766f-3c56-47eb-ad2d-9aa4d5f78c81",
   "metadata": {},
   "source": [
    "# Summarize Performance \n",
    "---------------------\n",
    "- Desc: Summary statistics for online study\n",
    "- Author:  G.FragaGonzalez\n"
   ]
  },
  {
   "cell_type": "markdown",
   "id": "e7a231fc-d742-4d46-91fc-e97c6ee56ee4",
   "metadata": {},
   "source": [
    "## Import modules and define paths\n",
    "Use location of this file to define relative paths"
   ]
  },
  {
   "cell_type": "code",
   "execution_count": 6,
   "id": "3eccad74",
   "metadata": {},
   "outputs": [
    {
     "name": "stdout",
     "output_type": "stream",
     "text": [
      "Today's date: 2023-11-03\n"
     ]
    }
   ],
   "source": [
    "from datetime import date\n",
    "today = date.today()\n",
    "print(\"Today's date:\", today)\n",
    "\n",
    "import sys\n",
    "import os\n",
    "import glob\n",
    "import re\n",
    "import pandas as pd\n",
    "\n",
    "# filepaths - Use current script path as reference \n",
    "thisScriptDir = os.path.dirname(os.path.abspath(\"__file__\"))\n",
    "baseDir = thisScriptDir[:thisScriptDir.find(\"Scripts\")]\n",
    "dirinput = os.path.join(baseDir + 'Data', 'preprocessed','pilot_2','data_exp_116083-v2')\n",
    "diroutput = os.path.join(baseDir + 'Data', 'preprocessed','pilot_2','data_exp_116083-v2')\n",
    "outputfilename = 'Concat_stats.csv'\n",
    "\n"
   ]
  },
  {
   "cell_type": "markdown",
   "id": "70a72f2e-d6bd-45a3-8a6c-7079535de67d",
   "metadata": {},
   "source": [
    "## Find relevant files "
   ]
  },
  {
   "cell_type": "code",
   "execution_count": 5,
   "id": "6b73899b-fb97-47b7-8686-1e0993058b50",
   "metadata": {
    "tags": []
   },
   "outputs": [],
   "source": [
    "# Find files with stats per subject (each in long format, accu and RT per block level type)\n",
    "validfiles= [files for files in glob.glob(dirinput + '/**/**/*_stats.csv' ,recursive=True)]\n"
   ]
  },
  {
   "cell_type": "markdown",
   "id": "6dc8177a",
   "metadata": {},
   "source": [
    "## Read all tables and concatenate them"
   ]
  },
  {
   "cell_type": "code",
   "execution_count": 9,
   "id": "72ea3c48",
   "metadata": {},
   "outputs": [
    {
     "ename": "NameError",
     "evalue": "name 'files' is not defined",
     "output_type": "error",
     "traceback": [
      "\u001b[1;31m---------------------------------------------------------------------------\u001b[0m",
      "\u001b[1;31mNameError\u001b[0m                                 Traceback (most recent call last)",
      "Cell \u001b[1;32mIn[9], line 2\u001b[0m\n\u001b[0;32m      1\u001b[0m \u001b[38;5;66;03m# Hold all contents in a list of df \u001b[39;00m\n\u001b[1;32m----> 2\u001b[0m listdfs \u001b[38;5;241m=\u001b[39m [pd\u001b[38;5;241m.\u001b[39mread_csv(fileinput) \u001b[38;5;28;01mfor\u001b[39;00m fileinput \u001b[38;5;129;01min\u001b[39;00m \u001b[43mfiles\u001b[49m]\n\u001b[0;32m      3\u001b[0m \u001b[38;5;28mprint\u001b[39m(\u001b[38;5;28mlen\u001b[39m(listdfs), \u001b[38;5;124m'\u001b[39m\u001b[38;5;124m data frames read\u001b[39m\u001b[38;5;124m'\u001b[39m)\n\u001b[0;32m      5\u001b[0m \u001b[38;5;66;03m# concatenate them \u001b[39;00m\n",
      "\u001b[1;31mNameError\u001b[0m: name 'files' is not defined"
     ]
    }
   ],
   "source": [
    "# Hold all contents in a list of df \n",
    "listdfs = [pd.read_csv(fileinput) for fileinput in validfiles]\n",
    "\n",
    "# concatenate them \n",
    "concat_df = pd.concat(listdfs, ignore_index=True)\n",
    "print('Dim of concatenated object:', concat_df.shape)\n",
    "\n",
    "# round numeric \n",
    "concat_df = concat_df.round(4)"
   ]
  },
  {
   "cell_type": "markdown",
   "id": "ece04801",
   "metadata": {},
   "source": [
    "## Summary statistics"
   ]
  },
  {
   "cell_type": "code",
   "execution_count": null,
   "id": "4b5d55e2",
   "metadata": {},
   "outputs": [],
   "source": []
  },
  {
   "cell_type": "markdown",
   "id": "de6ca233",
   "metadata": {},
   "source": [
    "Save file "
   ]
  },
  {
   "cell_type": "code",
   "execution_count": null,
   "id": "5f6bab30",
   "metadata": {},
   "outputs": [],
   "source": [
    "# Save the concatenated DataFrame to a new CSV file\n",
    "concat_df.to_csv(os.path.join(diroutput,outputfilename), index=False)\n"
   ]
  }
 ],
 "metadata": {
  "kernelspec": {
   "display_name": "Python [conda env:spyder-env] *",
   "language": "python",
   "name": "conda-env-spyder-env-py"
  },
  "language_info": {
   "codemirror_mode": {
    "name": "ipython",
    "version": 3
   },
   "file_extension": ".py",
   "mimetype": "text/x-python",
   "name": "python",
   "nbconvert_exporter": "python",
   "pygments_lexer": "ipython3",
   "version": "3.10.13"
  }
 },
 "nbformat": 4,
 "nbformat_minor": 5
}
